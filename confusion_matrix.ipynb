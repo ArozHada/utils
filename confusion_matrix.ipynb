{
 "cells": [
  {
   "cell_type": "markdown",
   "metadata": {},
   "source": [
    "Generating confusion matrix plot with labels extracted from classification report"
   ]
  },
  {
   "cell_type": "code",
   "execution_count": null,
   "metadata": {},
   "outputs": [],
   "source": [
    "Y_test = []\n",
    "Y_pred = []"
   ]
  },
  {
   "cell_type": "code",
   "execution_count": null,
   "metadata": {},
   "outputs": [],
   "source": [
    "from sklearn.metrics import classification_report\n",
    "import pandas as pd\n",
    "\n",
    "# Calculate the classification report\n",
    "report = classification_report(Y_test, Y_pred, output_dict=True)\n",
    "\n",
    "# Convert the report to a DataFrame\n",
    "df_f1_scores = pd.DataFrame(report).transpose()\n",
    "\n",
    "# convert the index to a column\n",
    "df_f1_scores.reset_index(inplace=True)\n",
    "\n",
    "df_f1_scores"
   ]
  },
  {
   "cell_type": "code",
   "execution_count": null,
   "metadata": {},
   "outputs": [],
   "source": [
    "# Plot a bar-plot for tthe F1 scores and the cell types\n",
    "plt.figure(figsize=(30, 10))\n",
    "sns.set(style=\"whitegrid\")\n",
    "sns.set_palette(\"husl\")\n",
    "sns.barplot(y='f1-score', x='index', data=df_f1_scores)\n",
    "plt.title('F1 Scores for each class (Support on top of bars)')\n",
    "plt.ylabel('F1 Score')\n",
    "plt.xlabel('Classes')\n",
    "plt.xticks(rotation=90)\n",
    "\n",
    "#plot the support on top of bars except for the last 3 bars and color the text red if the support is less than 10\n",
    "for i in range(len(df_f1_scores)-3):\n",
    "    if df_f1_scores['support'][i] < 10:\n",
    "        plt.text(i, df_f1_scores['f1-score'][i], df_f1_scores['support'][i], ha = 'center', color='red')\n",
    "    else:\n",
    "        plt.text(i, df_f1_scores['f1-score'][i], df_f1_scores['support'][i], ha = 'center')\n",
    "\n",
    "plt.show()"
   ]
  }
 ],
 "metadata": {
  "language_info": {
   "name": "python"
  }
 },
 "nbformat": 4,
 "nbformat_minor": 2
}
